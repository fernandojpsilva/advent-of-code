{
 "cells": [
  {
   "cell_type": "code",
   "execution_count": null,
   "metadata": {},
   "outputs": [],
   "source": [
    "with open('day2.txt') as file:\n",
    "    lines=file.readlines()\n",
    "lines"
   ]
  },
  {
   "cell_type": "code",
   "execution_count": 11,
   "metadata": {},
   "outputs": [],
   "source": [
    "loses_to = {\n",
    "    \"A\": \"B\",\n",
    "    \"B\": \"C\",\n",
    "    \"C\": \"A\"\n",
    "}\n",
    "\n",
    "draws_to = {\n",
    "    \"A\": \"A\",\n",
    "    \"B\": \"B\",\n",
    "    \"C\": \"C\"\n",
    "}\n",
    "\n",
    "wins_to = {\n",
    "    \"A\": \"C\",\n",
    "    \"B\": \"A\",\n",
    "    \"C\": \"B\"\n",
    "}"
   ]
  },
  {
   "cell_type": "code",
   "execution_count": 35,
   "metadata": {},
   "outputs": [],
   "source": [
    "\n",
    "def play(outcome):\n",
    "    if outcome == \"X\":\n",
    "        return 0\n",
    "    elif outcome == \"Y\":\n",
    "        return 3\n",
    "    elif outcome == \"Z\":\n",
    "        return 6\n",
    "    \n",
    "def choice(outcome, player):\n",
    "    if outcome == \"X\":\n",
    "        return wins_to[player]\n",
    "    elif outcome == \"Y\":\n",
    "        return draws_to[player]\n",
    "    elif outcome == \"Z\":\n",
    "        return loses_to[player]"
   ]
  },
  {
   "cell_type": "code",
   "execution_count": 37,
   "metadata": {},
   "outputs": [
    {
     "name": "stdout",
     "output_type": "stream",
     "text": [
      "14060\n"
     ]
    }
   ],
   "source": [
    "final_score = 0\n",
    "\n",
    "choice_score = {\n",
    "    \"A\": 1,\n",
    "    \"B\": 2,\n",
    "    \"C\": 3\n",
    "}\n",
    "\n",
    "for line in lines:\n",
    "    player_choice = choice(line[2], line[0])\n",
    "    result_score = play(line[2])\n",
    "    final_score = final_score + result_score + choice_score[player_choice]\n",
    "\n",
    "print(final_score)"
   ]
  }
 ],
 "metadata": {
  "kernelspec": {
   "display_name": "Python 3",
   "language": "python",
   "name": "python3"
  },
  "language_info": {
   "codemirror_mode": {
    "name": "ipython",
    "version": 3
   },
   "file_extension": ".py",
   "mimetype": "text/x-python",
   "name": "python",
   "nbconvert_exporter": "python",
   "pygments_lexer": "ipython3",
   "version": "3.10.11"
  },
  "orig_nbformat": 4
 },
 "nbformat": 4,
 "nbformat_minor": 2
}
