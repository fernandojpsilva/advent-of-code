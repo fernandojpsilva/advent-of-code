{
 "cells": [
  {
   "cell_type": "code",
   "execution_count": null,
   "metadata": {},
   "outputs": [],
   "source": [
    "with open('day2.txt') as file:\n",
    "    lines=file.readlines()\n",
    "lines"
   ]
  },
  {
   "cell_type": "code",
   "execution_count": 3,
   "metadata": {},
   "outputs": [],
   "source": [
    "loses_to = {\n",
    "    \"A\": \"Y\",\n",
    "    \"B\": \"Z\",\n",
    "    \"C\": \"X\",\n",
    "    \"X\": \"B\",\n",
    "    \"Y\": \"C\",\n",
    "    \"Z\": \"A\"\n",
    "}\n",
    "\n",
    "def play(opponent, player):\n",
    "    if player in loses_to[opponent]:\n",
    "        return 6\n",
    "    elif opponent in loses_to[player]:\n",
    "        return 0\n",
    "    else:\n",
    "        return 3"
   ]
  },
  {
   "cell_type": "code",
   "execution_count": 5,
   "metadata": {},
   "outputs": [
    {
     "name": "stdout",
     "output_type": "stream",
     "text": [
      "10624\n"
     ]
    }
   ],
   "source": [
    "final_score = 0\n",
    "\n",
    "choice_score = {\n",
    "    \"X\": 1,\n",
    "    \"Y\": 2,\n",
    "    \"Z\": 3\n",
    "}\n",
    "\n",
    "for line in lines:\n",
    "    result_score = play(line[0], line[2])\n",
    "    final_score = final_score + result_score + choice_score[line[2]]\n",
    "\n",
    "print(final_score)"
   ]
  },
  {
   "cell_type": "code",
   "execution_count": null,
   "metadata": {},
   "outputs": [],
   "source": []
  }
 ],
 "metadata": {
  "kernelspec": {
   "display_name": "Python 3",
   "language": "python",
   "name": "python3"
  },
  "language_info": {
   "codemirror_mode": {
    "name": "ipython",
    "version": 3
   },
   "file_extension": ".py",
   "mimetype": "text/x-python",
   "name": "python",
   "nbconvert_exporter": "python",
   "pygments_lexer": "ipython3",
   "version": "3.10.11"
  },
  "orig_nbformat": 4
 },
 "nbformat": 4,
 "nbformat_minor": 2
}
