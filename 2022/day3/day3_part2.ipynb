{
 "cells": [
  {
   "cell_type": "code",
   "execution_count": 4,
   "metadata": {},
   "outputs": [],
   "source": [
    "import string\n",
    "from itertools import islice"
   ]
  },
  {
   "cell_type": "code",
   "execution_count": null,
   "metadata": {},
   "outputs": [],
   "source": [
    "with open('day3.txt') as file:\n",
    "    lines=file.readlines()\n",
    "lines"
   ]
  },
  {
   "cell_type": "code",
   "execution_count": 3,
   "metadata": {},
   "outputs": [],
   "source": [
    "def priority(item):\n",
    "    alphabet = string.ascii_lowercase + string.ascii_uppercase\n",
    "    return alphabet.find(item) + 1"
   ]
  },
  {
   "cell_type": "code",
   "execution_count": 14,
   "metadata": {},
   "outputs": [
    {
     "name": "stdout",
     "output_type": "stream",
     "text": [
      "2488\n"
     ]
    }
   ],
   "source": [
    "sum = 0\n",
    "i = 0\n",
    "line_list = []\n",
    "for line in lines:\n",
    "    line_list.append(line.replace(\"\\n\", \"\"))\n",
    "    i = i + 1\n",
    "\n",
    "    if i % 3 == 0:\n",
    "        common_item = list(set(line_list[0])&set(line_list[1])&set(line_list[2]))\n",
    "        sum = sum + priority(common_item[0])\n",
    "        line_list = []\n",
    "    \n",
    "print(sum)"
   ]
  }
 ],
 "metadata": {
  "kernelspec": {
   "display_name": "Python 3",
   "language": "python",
   "name": "python3"
  },
  "language_info": {
   "codemirror_mode": {
    "name": "ipython",
    "version": 3
   },
   "file_extension": ".py",
   "mimetype": "text/x-python",
   "name": "python",
   "nbconvert_exporter": "python",
   "pygments_lexer": "ipython3",
   "version": "3.10.11"
  },
  "orig_nbformat": 4
 },
 "nbformat": 4,
 "nbformat_minor": 2
}
