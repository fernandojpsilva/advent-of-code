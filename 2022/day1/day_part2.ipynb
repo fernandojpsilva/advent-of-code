{
 "cells": [
  {
   "cell_type": "code",
   "execution_count": null,
   "metadata": {},
   "outputs": [],
   "source": [
    "with open('day1.txt') as file:\n",
    "    lines=file.readlines()\n",
    "lines"
   ]
  },
  {
   "cell_type": "code",
   "execution_count": 2,
   "metadata": {},
   "outputs": [],
   "source": [
    "elf_calories = []\n",
    "last_count = 0\n",
    "\n",
    "for line in lines:\n",
    "    if(line != \"\\n\"):\n",
    "        last_count = last_count + int(line)\n",
    "    else:\n",
    "        elf_calories.append(last_count)\n",
    "        last_count = 0"
   ]
  },
  {
   "cell_type": "code",
   "execution_count": 3,
   "metadata": {},
   "outputs": [
    {
     "name": "stdout",
     "output_type": "stream",
     "text": [
      "211805\n"
     ]
    }
   ],
   "source": [
    "elf_calories.sort(reverse = 1)\n",
    "top_three = elf_calories[0] + elf_calories[1] + elf_calories[2]\n",
    "print(top_three)"
   ]
  }
 ],
 "metadata": {
  "kernelspec": {
   "display_name": "Python 3",
   "language": "python",
   "name": "python3"
  },
  "language_info": {
   "codemirror_mode": {
    "name": "ipython",
    "version": 3
   },
   "file_extension": ".py",
   "mimetype": "text/x-python",
   "name": "python",
   "nbconvert_exporter": "python",
   "pygments_lexer": "ipython3",
   "version": "3.10.11"
  },
  "orig_nbformat": 4
 },
 "nbformat": 4,
 "nbformat_minor": 2
}
