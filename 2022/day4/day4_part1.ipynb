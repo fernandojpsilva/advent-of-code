{
 "cells": [
  {
   "cell_type": "code",
   "execution_count": null,
   "metadata": {},
   "outputs": [],
   "source": [
    "with open('day4.txt') as file:\n",
    "    lines=file.readlines()\n",
    "lines"
   ]
  },
  {
   "cell_type": "code",
   "execution_count": 27,
   "metadata": {},
   "outputs": [],
   "source": [
    "def get_range(elf):\n",
    "    return int(elf.split(\"-\")[0]), int(elf.split(\"-\")[1].replace(\"\\n\", \"\"))"
   ]
  },
  {
   "cell_type": "code",
   "execution_count": 31,
   "metadata": {},
   "outputs": [
    {
     "data": {
      "text/plain": [
       "534"
      ]
     },
     "execution_count": 31,
     "metadata": {},
     "output_type": "execute_result"
    }
   ],
   "source": [
    "contains_count = 0\n",
    "\n",
    "for line in lines:\n",
    "    first_elf, second_elf = line.split(\",\")\n",
    "    first_elf_min, first_elf_max = get_range(first_elf)\n",
    "    second_elf_min, second_elf_max = get_range(second_elf)\n",
    "\n",
    "    if ((first_elf_min <= second_elf_min and first_elf_max >= second_elf_max) or (second_elf_min <= first_elf_min and second_elf_max >= first_elf_max)):\n",
    "        contains_count = contains_count + 1\n",
    "\n",
    "contains_count"
   ]
  }
 ],
 "metadata": {
  "kernelspec": {
   "display_name": "Python 3",
   "language": "python",
   "name": "python3"
  },
  "language_info": {
   "codemirror_mode": {
    "name": "ipython",
    "version": 3
   },
   "file_extension": ".py",
   "mimetype": "text/x-python",
   "name": "python",
   "nbconvert_exporter": "python",
   "pygments_lexer": "ipython3",
   "version": "3.10.11"
  },
  "orig_nbformat": 4
 },
 "nbformat": 4,
 "nbformat_minor": 2
}
